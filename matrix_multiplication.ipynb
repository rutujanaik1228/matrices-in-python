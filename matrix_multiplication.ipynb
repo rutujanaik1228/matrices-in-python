{
  "nbformat": 4,
  "nbformat_minor": 0,
  "metadata": {
    "colab": {
      "name": "matrix multiplication.ipynb",
      "provenance": []
    },
    "kernelspec": {
      "name": "python3",
      "display_name": "Python 3"
    },
    "language_info": {
      "name": "python"
    }
  },
  "cells": [
    {
      "cell_type": "code",
      "metadata": {
        "id": "I5c1GSHOVElH",
        "outputId": "6073e93e-8f39-4a8f-adb5-1e1ba2e32943",
        "colab": {
          "base_uri": "https://localhost:8080/"
        }
      },
      "source": [
        "matrix1 = [[12,7,3],\n",
        "        [4 ,5,6],\n",
        "        [7 ,8,9]]\n",
        "matrix2 = [[5,8,1],\n",
        "        [6,7,3],\n",
        "        [4,5,9]]\n",
        "  \n",
        "res = [[0 for x in range(3)] for y in range(3)] \n",
        "  \n",
        "# explicit for loops\n",
        "for i in range(len(matrix1)):\n",
        "    for j in range(len(matrix2[0])):\n",
        "        for k in range(len(matrix2)):\n",
        "  \n",
        "            # resulted matrix\n",
        "            res[i][j] += matrix1[i][k] * matrix2[k][j]\n",
        "  \n",
        "print (res)"
      ],
      "execution_count": 1,
      "outputs": [
        {
          "output_type": "stream",
          "text": [
            "[[114, 160, 60], [74, 97, 73], [119, 157, 112]]\n"
          ],
          "name": "stdout"
        }
      ]
    },
    {
      "cell_type": "code",
      "metadata": {
        "id": "aO0CAAEOVOhE"
      },
      "source": [
        ""
      ],
      "execution_count": null,
      "outputs": []
    }
  ]
}