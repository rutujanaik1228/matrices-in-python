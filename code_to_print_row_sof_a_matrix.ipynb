{
  "nbformat": 4,
  "nbformat_minor": 0,
  "metadata": {
    "colab": {
      "name": "code to print row sof a matrix.ipynb",
      "provenance": []
    },
    "kernelspec": {
      "name": "python3",
      "display_name": "Python 3"
    },
    "language_info": {
      "name": "python"
    }
  },
  "cells": [
    {
      "cell_type": "code",
      "metadata": {
        "colab": {
          "base_uri": "https://localhost:8080/"
        },
        "id": "_2n__g7MQheS",
        "outputId": "330010cb-cdd6-441b-bbc2-2fc31e24ccc9"
      },
      "source": [
        "M = [[7, 1, -6],\n",
        "     [1,17,41], \n",
        "     [-17,3,61]]\n",
        "\n",
        "m_length = len(M)\n",
        "\n",
        "for i in range(m_length):\n",
        "    print(M[i])"
      ],
      "execution_count": 2,
      "outputs": [
        {
          "output_type": "stream",
          "text": [
            "[7, 1, -6]\n",
            "[1, 17, 41]\n",
            "[-17, 3, 61]\n"
          ],
          "name": "stdout"
        }
      ]
    }
  ]
}