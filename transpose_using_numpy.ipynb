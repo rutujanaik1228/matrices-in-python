{
  "nbformat": 4,
  "nbformat_minor": 0,
  "metadata": {
    "colab": {
      "name": "transpose using numpy.ipynb",
      "provenance": []
    },
    "kernelspec": {
      "name": "python3",
      "display_name": "Python 3"
    },
    "language_info": {
      "name": "python"
    }
  },
  "cells": [
    {
      "cell_type": "code",
      "metadata": {
        "colab": {
          "base_uri": "https://localhost:8080/"
        },
        "id": "EAR8NXl-PpRi",
        "outputId": "44d7f715-e68f-42f2-915b-5731f16114ec"
      },
      "source": [
        "import numpy as np\n",
        "\n",
        "arr = np.array([[1,3,9], [4,1,2]])\n",
        "\n",
        "print('Original Array:\\n',arr)\n",
        "\n",
        "arr_transpose = arr.transpose()\n",
        "\n",
        "print('Transposed Array:\\n',arr_transpose)"
      ],
      "execution_count": 2,
      "outputs": [
        {
          "output_type": "stream",
          "text": [
            "Original Array:\n",
            " [[1 3 9]\n",
            " [4 1 2]]\n",
            "Transposed Array:\n",
            " [[1 4]\n",
            " [3 1]\n",
            " [9 2]]\n"
          ],
          "name": "stdout"
        }
      ]
    }
  ]
}