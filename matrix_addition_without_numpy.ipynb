{
  "nbformat": 4,
  "nbformat_minor": 0,
  "metadata": {
    "colab": {
      "name": "matrix addition without numpy.ipynb",
      "provenance": []
    },
    "kernelspec": {
      "name": "python3",
      "display_name": "Python 3"
    },
    "language_info": {
      "name": "python"
    }
  },
  "cells": [
    {
      "cell_type": "code",
      "metadata": {
        "colab": {
          "base_uri": "https://localhost:8080/"
        },
        "id": "MSjz2c_nh8MG",
        "outputId": "d45b6a8c-6929-4d67-b4a8-a2e3f98485c1"
      },
      "source": [
        "X = [[1,9,3],\n",
        "    [4 ,3,6],\n",
        "    [7 ,8,9]]\n",
        " \n",
        "Y = [[9,8,7],\n",
        "    [6,5,4],\n",
        "    [4,6,9,]]\n",
        " \n",
        " \n",
        "result = [[0,0,0],\n",
        "        [0,0,0],\n",
        "        [0,0,0]]\n",
        " \n",
        "# iterate through rows\n",
        "for i in range(len(X)):  \n",
        "# iterate through columns\n",
        "    for j in range(len(X[0])):\n",
        "        result[i][j] = X[i][j] + Y[i][j]\n",
        " \n",
        "for r in result:\n",
        "    print(r)"
      ],
      "execution_count": 3,
      "outputs": [
        {
          "output_type": "stream",
          "text": [
            "[10, 17, 10]\n",
            "[10, 8, 10]\n",
            "[11, 14, 18]\n"
          ],
          "name": "stdout"
        }
      ]
    }
  ]
}