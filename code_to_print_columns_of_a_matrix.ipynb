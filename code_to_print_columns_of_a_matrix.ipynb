{
  "nbformat": 4,
  "nbformat_minor": 0,
  "metadata": {
    "colab": {
      "name": "code to print columns of a matrix.ipynb",
      "provenance": []
    },
    "kernelspec": {
      "name": "python3",
      "display_name": "Python 3"
    },
    "language_info": {
      "name": "python"
    }
  },
  "cells": [
    {
      "cell_type": "code",
      "metadata": {
        "colab": {
          "base_uri": "https://localhost:8080/"
        },
        "id": "_2n__g7MQheS",
        "outputId": "6cec198e-d751-443a-ae70-01dd423afbbc"
      },
      "source": [
        "import numpy as np\n",
        "M= np.array([[2, 4,2,5,1], \n",
        "    [1, 6, 9, -1, -5],\n",
        "    [-4, 8, 12, 16, -20],\n",
        "    [15, 0, 15, 0, 2]])\n",
        "print(M[:,0]) \n",
        "print(M[:,3]) \n",
        "print(M[:,-1]) "
      ],
      "execution_count": 4,
      "outputs": [
        {
          "output_type": "stream",
          "text": [
            "[ 2  1 -4 15]\n",
            "[ 5 -1 16  0]\n",
            "[  1  -5 -20   2]\n"
          ],
          "name": "stdout"
        }
      ]
    }
  ]
}