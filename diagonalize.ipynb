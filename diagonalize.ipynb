{
  "nbformat": 4,
  "nbformat_minor": 0,
  "metadata": {
    "colab": {
      "name": "diagonalize.ipynb",
      "provenance": []
    },
    "kernelspec": {
      "name": "python3",
      "display_name": "Python 3"
    },
    "language_info": {
      "name": "python"
    }
  },
  "cells": [
    {
      "cell_type": "code",
      "metadata": {
        "colab": {
          "base_uri": "https://localhost:8080/"
        },
        "id": "6wz-X1URWwsR",
        "outputId": "4f278c26-f366-41b7-eb7c-c5d0e8a1d8b1"
      },
      "source": [
        "from sympy import *\n",
        "M = Matrix([[3, -2,  4, -2],\n",
        "            [7,  3, 9, -2],\n",
        "            [3, -2,  2, -2],\n",
        "            [1, -2, -3,  3]])\n",
        "  \n",
        "print(\"Matrix : {} \".format(M))\n",
        "   \n",
        "P, D = M.diagonalize()  \n",
        "      \n",
        "print(\"Diagonal of a matrix : {}\".format(D)) "
      ],
      "execution_count": 3,
      "outputs": [
        {
          "output_type": "stream",
          "text": [
            "Matrix : Matrix([[3, -2, 4, -2], [7, 3, 9, -2], [3, -2, 2, -2], [1, -2, -3, 3]]) \n",
            "Diagonal of a matrix : Matrix([[5, 0, 0, 0], [0, (-20 + (1 - sqrt(3)*I)*(4 + (1 - sqrt(3)*I)*(38 + sqrt(1569))**(1/3))*(38 + sqrt(1569))**(1/3))/(2*(1 - sqrt(3)*I)*(38 + sqrt(1569))**(1/3)), 0, 0], [0, 0, (-20 + (1 + sqrt(3)*I)*(4 + (1 + sqrt(3)*I)*(38 + sqrt(1569))**(1/3))*(38 + sqrt(1569))**(1/3))/(2*(1 + sqrt(3)*I)*(38 + sqrt(1569))**(1/3)), 0], [0, 0, 0, -(38 + sqrt(1569))**(1/3) + 5/(38 + sqrt(1569))**(1/3) + 2]])\n"
          ],
          "name": "stdout"
        }
      ]
    }
  ]
}