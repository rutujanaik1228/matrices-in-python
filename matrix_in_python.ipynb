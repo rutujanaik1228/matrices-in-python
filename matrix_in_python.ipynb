{
  "nbformat": 4,
  "nbformat_minor": 0,
  "metadata": {
    "colab": {
      "name": "matrix in python.ipynb",
      "provenance": []
    },
    "kernelspec": {
      "name": "python3",
      "display_name": "Python 3"
    },
    "language_info": {
      "name": "python"
    }
  },
  "cells": [
    {
      "cell_type": "code",
      "metadata": {
        "colab": {
          "base_uri": "https://localhost:8080/"
        },
        "id": "Ey4wYITetQXN",
        "outputId": "4d9ae1b5-8d90-4549-8c02-35d493ba42a1"
      },
      "source": [
        "R = int(input(\"Enter the number of rows:\"))\n",
        "C = int(input(\"Enter the number of columns:\"))\n",
        "matrix = []\n",
        "print(\"Enter the entries rowwise:\")\n",
        "for i in range(R):\t\t \n",
        "\ta =[]\n",
        "\tfor j in range(C):\t\n",
        "\t\ta.append(int(input()))\n",
        "\tmatrix.append(a)\n",
        "for i in range(R):\n",
        "\tfor j in range(C):\n",
        "\t\tprint(matrix[i][j], end = \" \")\n",
        "\tprint()\n"
      ],
      "execution_count": 1,
      "outputs": [
        {
          "output_type": "stream",
          "text": [
            "Enter the number of rows:2\n",
            "Enter the number of columns:2\n",
            "Enter the entries rowwise:\n",
            "1\n",
            "5\n",
            "2\n",
            "7\n",
            "1 5 \n",
            "2 7 \n"
          ],
          "name": "stdout"
        }
      ]
    }
  ]
}