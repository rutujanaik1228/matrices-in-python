{
  "nbformat": 4,
  "nbformat_minor": 0,
  "metadata": {
    "colab": {
      "name": "eigen values and eigen vectors.ipynb",
      "provenance": []
    },
    "kernelspec": {
      "name": "python3",
      "display_name": "Python 3"
    },
    "language_info": {
      "name": "python"
    }
  },
  "cells": [
    {
      "cell_type": "code",
      "metadata": {
        "colab": {
          "base_uri": "https://localhost:8080/"
        },
        "id": "Pcl51eFkXuV4",
        "outputId": "294406c2-cd59-44f8-fb93-a21f7f319e2e"
      },
      "source": [
        "\n",
        "# importing numpy library\n",
        "import numpy as np\n",
        "  \n",
        "# create numpy 2d-array\n",
        "m = np.array([[1, 2, 3],\n",
        "              [4, 5, 6],\n",
        "              [1, 5, 9]])\n",
        "  \n",
        "print(\"Printing the Original square array:\\n\",\n",
        "      m)\n",
        "  \n",
        "# finding eigenvalues and eigenvectors\n",
        "w, v = np.linalg.eig(m)\n",
        "  \n",
        "# printing eigen values\n",
        "print(\"Printing the Eigen values of the given square array:\\n\",\n",
        "      w)\n",
        "  \n",
        "# printing eigen vectors\n",
        "print(\"Printing Right eigenvectors of the given square array:\\n\",\n",
        "      v)"
      ],
      "execution_count": 1,
      "outputs": [
        {
          "output_type": "stream",
          "text": [
            "Printing the Original square array:\n",
            " [[1 2 3]\n",
            " [4 5 6]\n",
            " [1 5 9]]\n",
            "Printing the Eigen values of the given square array:\n",
            " [ 1.36846584e+01 -5.34127118e-16  1.31534156e+00]\n",
            "Printing Right eigenvectors of the given square array:\n",
            " [[-0.27148068 -0.40824829 -0.05675667]\n",
            " [-0.62857049  0.81649658 -0.83345229]\n",
            " [-0.72883289 -0.40824829  0.54966895]]\n"
          ],
          "name": "stdout"
        }
      ]
    }
  ]
}