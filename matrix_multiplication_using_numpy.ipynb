{
  "nbformat": 4,
  "nbformat_minor": 0,
  "metadata": {
    "colab": {
      "name": "matrix multiplication using numpy.ipynb",
      "provenance": []
    },
    "kernelspec": {
      "name": "python3",
      "display_name": "Python 3"
    },
    "language_info": {
      "name": "python"
    }
  },
  "cells": [
    {
      "cell_type": "code",
      "metadata": {
        "colab": {
          "base_uri": "https://localhost:8080/"
        },
        "id": "DEITIeuuUvd3",
        "outputId": "132164ee-d722-4f17-f5c2-9b58985697b9"
      },
      "source": [
        "import numpy as np\n",
        "mat1 = ([1,2,5],[3 ,7,8],[2, 1, 3])\n",
        "mat2 = ([3, 1, 6],[5, 6, 1],[6,6, 7])\n",
        "  \n",
        "# This will return dot product\n",
        "res = np.dot(mat1,mat2)\n",
        "print(res)"
      ],
      "execution_count": 1,
      "outputs": [
        {
          "output_type": "stream",
          "text": [
            "[[43 43 43]\n",
            " [92 93 81]\n",
            " [29 26 34]]\n"
          ],
          "name": "stdout"
        }
      ]
    }
  ]
}