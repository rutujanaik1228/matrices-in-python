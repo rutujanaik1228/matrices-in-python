{
  "nbformat": 4,
  "nbformat_minor": 0,
  "metadata": {
    "colab": {
      "name": "matrix transpose without numpy.ipynb",
      "provenance": []
    },
    "kernelspec": {
      "name": "python3",
      "display_name": "Python 3"
    },
    "language_info": {
      "name": "python"
    }
  },
  "cells": [
    {
      "cell_type": "code",
      "metadata": {
        "colab": {
          "base_uri": "https://localhost:8080/"
        },
        "id": "RlbevcIViROI",
        "outputId": "1072b8cd-1bd0-4b56-94a0-563cbb5f7cae"
      },
      "source": [
        "\n",
        "X = [[1,2],\n",
        "    [4 ,9],\n",
        "    [7 ,8]]\n",
        "\n",
        "result = [[X[j][i] for j in range(len(X))] for i in range(len(X[0]))]\n",
        "\n",
        "for r in result:\n",
        "   print(r)"
      ],
      "execution_count": 1,
      "outputs": [
        {
          "output_type": "stream",
          "text": [
            "[1, 4, 7]\n",
            "[2, 9, 8]\n"
          ],
          "name": "stdout"
        }
      ]
    }
  ]
}